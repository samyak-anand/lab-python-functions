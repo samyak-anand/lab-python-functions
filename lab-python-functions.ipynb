{
 "cells": [
  {
   "cell_type": "markdown",
   "id": "25d7736c-ba17-4aff-b6bb-66eba20fbf4e",
   "metadata": {},
   "source": [
    "# Lab | Functions"
   ]
  },
  {
   "cell_type": "markdown",
   "id": "0c581062-8967-4d93-b06e-62833222f930",
   "metadata": {
    "tags": []
   },
   "source": [
    "## Exercise: Managing Customer Orders with Functions\n",
    "\n",
    "In the previous exercise, you improved the code for managing customer orders by using loops and flow control. Now, let's take it a step further and refactor the code by introducing functions.\n",
    "\n",
    "Follow the steps below to complete the exercise:\n",
    "\n",
    "1. Define a function named `initialize_inventory` that takes `products` as a parameter. Inside the function, implement the code for initializing the inventory dictionary using a loop and user input.\n",
    "\n",
    "2. Define a function named `get_customer_orders` that takes no parameters. Inside the function, implement the code for prompting the user to enter the product names using a loop. The function should return the `customer_orders` set.\n",
    "\n",
    "3. Define a function named `update_inventory` that takes `customer_orders` and `inventory` as parameters. Inside the function, implement the code for updating the inventory dictionary based on the customer orders.\n",
    "\n",
    "4. Define a function named `calculate_order_statistics` that takes `customer_orders` and `products` as parameters. Inside the function, implement the code for calculating the order statistics (total products ordered, and percentage of unique products ordered). The function should return these values.\n",
    "\n",
    "5. Define a function named `print_order_statistics` that takes `order_statistics` as a parameter. Inside the function, implement the code for printing the order statistics.\n",
    "\n",
    "6. Define a function named `print_updated_inventory` that takes `inventory` as a parameter. Inside the function, implement the code for printing the updated inventory.\n",
    "\n",
    "7. Call the functions in the appropriate sequence to execute the program and manage customer orders.\n",
    "\n",
    "Hints for functions:\n",
    "\n",
    "- Consider the input parameters required for each function and their return values.\n",
    "- Utilize function parameters and return values to transfer data between functions.\n",
    "- Test your functions individually to ensure they work correctly.\n",
    "\n",
    "\n"
   ]
  },
  {
   "cell_type": "code",
   "execution_count": null,
   "id": "867a2932",
   "metadata": {},
   "outputs": [],
   "source": []
  },
  {
   "cell_type": "code",
   "execution_count": 40,
   "id": "107f399c",
   "metadata": {},
   "outputs": [],
   "source": [
    "def inventory():\n",
    "    print(\"Inventory:\")\n",
    "    pro_list= [\"t-shirt\", \"mug\", \"hat\", \"book\", \"keychain\"]\n",
    "    print (\"The define list is: \", pro_list)\n",
    "    return pro_list"
   ]
  },
  {
   "cell_type": "code",
   "execution_count": 41,
   "id": "89e24854",
   "metadata": {},
   "outputs": [],
   "source": [
    "#fuction to intialize the inventory and displating the inventory\n",
    "\n",
    "def init_inventory(products):\n",
    "    #inventory()\n",
    "    inventory = {}\n",
    "    \n",
    "    for product in products:\n",
    "        quantity= int(input(f'Enter the quantity of {product}: '))\n",
    "        inventory[product] = quantity\n",
    "            \n",
    "        \n",
    "        print(f\"Avaliable {product} in inventory\",inventory[product])\n",
    "            \n",
    "    return inventory\n",
    "#Example\n",
    "\n"
   ]
  },
  {
   "cell_type": "code",
   "execution_count": 42,
   "id": "354ef89f",
   "metadata": {},
   "outputs": [],
   "source": [
    "\n",
    "def get_customer_order():\n",
    "    # Get the customer's order \n",
    "    \n",
    "    customer_orders= set() \n",
    "    while True:\n",
    "        product = input(\"Enter the name of the product to order: \").lower()\n",
    "        if product in product_list:\n",
    "            customer_orders.add(product)\n",
    "        else:\n",
    "            print(\"Sorry, we don't have that product.\")\n",
    "        more = input(\"Do you want to add another product? (yes/no): \").lower()\n",
    "        if more != 'yes':\n",
    "            break\n",
    "\n",
    "    return customer_orders\n"
   ]
  },
  {
   "cell_type": "code",
   "execution_count": 43,
   "id": "e8682571",
   "metadata": {},
   "outputs": [],
   "source": [
    "def update_inventory(order):\n",
    "    cust_order = order\n",
    "    # Get the current inventory\n",
    "    for product in cust_order:\n",
    "        # Check if the product is in the inventory\n",
    "        if ava_inventory[product]>0:\n",
    "                ava_inventory[product] -=1\n",
    "    return ava_inventory\n",
    "\n"
   ]
  },
  {
   "cell_type": "code",
   "execution_count": 44,
   "id": "47f0f7b7",
   "metadata": {},
   "outputs": [],
   "source": [
    "def display_avaliable_inventory():\n",
    "    print(\"Available Inventory:\", avaliabe_inventory)\n",
    "    for product, stock in avaliabe_inventory.items():\n",
    "        print(f\"{product}: {stock} units\")\n",
    "    return\n"
   ]
  },
  {
   "cell_type": "code",
   "execution_count": 54,
   "id": "f953c25f",
   "metadata": {},
   "outputs": [],
   "source": [
    "def cal_order_stat(cust_order, product):\n",
    "\n",
    "    # get all orders\n",
    "    total_order = len(cust_order)\n",
    "    print(total_order)\n",
    "    # get all orders for the product\n",
    "    #product_order = cust_order.filter(product=product).count()\n",
    "    product_order = len(product)\n",
    "    print(product_order)\n",
    "    # get the percentage of orders for the product\n",
    "    product_percentage = (total_order / product_order) * 100\n",
    "    return  total_order,product_percentage\n"
   ]
  },
  {
   "cell_type": "code",
   "execution_count": 46,
   "id": "7c74a484",
   "metadata": {},
   "outputs": [
    {
     "name": "stdout",
     "output_type": "stream",
     "text": [
      "Inventory:\n",
      "The define list is:  ['t-shirt', 'mug', 'hat', 'book', 'keychain']\n"
     ]
    },
    {
     "name": "stdout",
     "output_type": "stream",
     "text": [
      "Avaliable t-shirt in inventory 4\n",
      "Avaliable mug in inventory 3\n",
      "Avaliable hat in inventory 4\n",
      "Avaliable book in inventory 2\n",
      "Avaliable keychain in inventory 3\n"
     ]
    }
   ],
   "source": [
    "if __name__ == \"__main__\":\n",
    "    product_list = inventory()\n",
    "    ava_inventory = init_inventory(product_list)\n",
    "   "
   ]
  },
  {
   "cell_type": "code",
   "execution_count": 58,
   "id": "3c6181c8",
   "metadata": {},
   "outputs": [
    {
     "name": "stdout",
     "output_type": "stream",
     "text": [
      "{'t-shirt': 4, 'mug': 2, 'hat': 3, 'book': 0, 'keychain': 3}\n",
      "Available Inventory: {'t-shirt': 4, 'mug': 2, 'hat': 3, 'book': 0, 'keychain': 3}\n",
      "t-shirt: 4 units\n",
      "mug: 2 units\n",
      "hat: 3 units\n",
      "book: 0 units\n",
      "keychain: 3 units\n",
      "2\n",
      "5\n",
      "\n",
      " The order stat \n",
      " (2, 40.0)\n"
     ]
    }
   ],
   "source": [
    "order= get_customer_order()\n",
    "avaliabe_inventory =update_inventory(order)\n",
    "print(avaliabe_inventory)\n",
    "display_avaliable_inventory()\n",
    "print(\"\\n The order stat \\n\",cal_order_stat(order,product_list))\n",
    "#cal_order_stat(order,product_list)"
   ]
  },
  {
   "cell_type": "code",
   "execution_count": 48,
   "id": "a23b2e61",
   "metadata": {},
   "outputs": [
    {
     "name": "stdout",
     "output_type": "stream",
     "text": [
      "Available Inventory: {'t-shirt': 4, 'mug': 3, 'hat': 4, 'book': 1, 'keychain': 3}\n",
      "t-shirt: 4 units\n",
      "mug: 3 units\n",
      "hat: 4 units\n",
      "book: 1 units\n",
      "keychain: 3 units\n"
     ]
    }
   ],
   "source": [
    "print_update_inventory = display_avaliable_inventory()\n",
    "print_update_inventory"
   ]
  },
  {
   "cell_type": "code",
   "execution_count": 52,
   "id": "3ff99596",
   "metadata": {},
   "outputs": [
    {
     "data": {
      "text/plain": [
       "{'book'}"
      ]
     },
     "execution_count": 52,
     "metadata": {},
     "output_type": "execute_result"
    }
   ],
   "source": [
    "order"
   ]
  },
  {
   "cell_type": "code",
   "execution_count": 53,
   "id": "be4c4510",
   "metadata": {},
   "outputs": [
    {
     "data": {
      "text/plain": [
       "['t-shirt', 'mug', 'hat', 'book', 'keychain']"
      ]
     },
     "execution_count": 53,
     "metadata": {},
     "output_type": "execute_result"
    }
   ],
   "source": [
    "product_list"
   ]
  },
  {
   "cell_type": "code",
   "execution_count": null,
   "id": "b2988cad",
   "metadata": {},
   "outputs": [],
   "source": []
  }
 ],
 "metadata": {
  "kernelspec": {
   "display_name": ".venv",
   "language": "python",
   "name": "python3"
  },
  "language_info": {
   "codemirror_mode": {
    "name": "ipython",
    "version": 3
   },
   "file_extension": ".py",
   "mimetype": "text/x-python",
   "name": "python",
   "nbconvert_exporter": "python",
   "pygments_lexer": "ipython3",
   "version": "3.12.3"
  }
 },
 "nbformat": 4,
 "nbformat_minor": 5
}
