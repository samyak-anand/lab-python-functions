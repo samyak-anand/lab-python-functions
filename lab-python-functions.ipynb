{
 "cells": [
  {
   "cell_type": "markdown",
   "id": "25d7736c-ba17-4aff-b6bb-66eba20fbf4e",
   "metadata": {},
   "source": [
    "# Lab | Functions"
   ]
  },
  {
   "cell_type": "markdown",
   "id": "0c581062-8967-4d93-b06e-62833222f930",
   "metadata": {
    "tags": []
   },
   "source": [
    "## Exercise: Managing Customer Orders with Functions\n",
    "\n",
    "In the previous exercise, you improved the code for managing customer orders by using loops and flow control. Now, let's take it a step further and refactor the code by introducing functions.\n",
    "\n",
    "Follow the steps below to complete the exercise:\n",
    "\n",
    "1. Define a function named `initialize_inventory` that takes `products` as a parameter. Inside the function, implement the code for initializing the inventory dictionary using a loop and user input.\n",
    "\n",
    "2. Define a function named `get_customer_orders` that takes no parameters. Inside the function, implement the code for prompting the user to enter the product names using a loop. The function should return the `customer_orders` set.\n",
    "\n",
    "3. Define a function named `update_inventory` that takes `customer_orders` and `inventory` as parameters. Inside the function, implement the code for updating the inventory dictionary based on the customer orders.\n",
    "\n",
    "4. Define a function named `calculate_order_statistics` that takes `customer_orders` and `products` as parameters. Inside the function, implement the code for calculating the order statistics (total products ordered, and percentage of unique products ordered). The function should return these values.\n",
    "\n",
    "5. Define a function named `print_order_statistics` that takes `order_statistics` as a parameter. Inside the function, implement the code for printing the order statistics.\n",
    "\n",
    "6. Define a function named `print_updated_inventory` that takes `inventory` as a parameter. Inside the function, implement the code for printing the updated inventory.\n",
    "\n",
    "7. Call the functions in the appropriate sequence to execute the program and manage customer orders.\n",
    "\n",
    "Hints for functions:\n",
    "\n",
    "- Consider the input parameters required for each function and their return values.\n",
    "- Utilize function parameters and return values to transfer data between functions.\n",
    "- Test your functions individually to ensure they work correctly.\n",
    "\n",
    "\n"
   ]
  },
  {
   "cell_type": "code",
   "execution_count": null,
   "id": "867a2932",
   "metadata": {},
   "outputs": [],
   "source": []
  },
  {
   "cell_type": "code",
   "execution_count": 1,
   "id": "107f399c",
   "metadata": {},
   "outputs": [],
   "source": [
    "def inventory():\n",
    "    print(\"Inventory:\")\n",
    "    pro_list= [\"t-shirt\", \"mug\", \"hat\", \"book\", \"keychain\"]\n",
    "    print (\"The define list is: \", pro_list)\n",
    "    return pro_list"
   ]
  },
  {
   "cell_type": "code",
   "execution_count": 3,
   "id": "89e24854",
   "metadata": {},
   "outputs": [
    {
     "name": "stdout",
     "output_type": "stream",
     "text": [
      "Inventory:\n",
      "The define list is:  ['t-shirt', 'mug', 'hat', 'book', 'keychain']\n",
      "Avaliable t-shirt in inventory 43\n",
      "Avaliable mug in inventory 53\n",
      "Avaliable hat in inventory 44\n",
      "Avaliable book in inventory 3\n",
      "Avaliable keychain in inventory 5\n"
     ]
    }
   ],
   "source": [
    "#fuction to intialize the inventory and displating the inventory\n",
    "\n",
    "def init_inventory(products):\n",
    "    #inventory()\n",
    "    inventory = {}\n",
    "    \n",
    "    for product in products:\n",
    "        quantity= int(input(f'Enter the quantity of {product}: '))\n",
    "        inventory[product] = quantity\n",
    "            \n",
    "        \n",
    "        print(f\"Avaliable {product} in inventory\",inventory[product])\n",
    "            \n",
    "    return inventory\n",
    "#Example\n",
    "product_list = inventory()\n",
    "ava_inventory = init_inventory(product_list)\n"
   ]
  },
  {
   "cell_type": "code",
   "execution_count": 4,
   "id": "792b4f5e",
   "metadata": {},
   "outputs": [
    {
     "data": {
      "text/plain": [
       "{'t-shirt': 43, 'mug': 53, 'hat': 44, 'book': 3, 'keychain': 5}"
      ]
     },
     "execution_count": 4,
     "metadata": {},
     "output_type": "execute_result"
    }
   ],
   "source": [
    "ava_inventory"
   ]
  },
  {
   "cell_type": "code",
   "execution_count": 5,
   "id": "354ef89f",
   "metadata": {},
   "outputs": [],
   "source": [
    "\n",
    "def get_customer_order():\n",
    "    # Get the customer's order \n",
    "    \n",
    "    customer_orders = set()\n",
    "    while True:\n",
    "        product = input(\"Enter the name of the product to order: \").strip()\n",
    "        if product in product_list:\n",
    "            customer_orders.add(product)\n",
    "        else:\n",
    "            print(\"Sorry, we don't have that product.\")\n",
    "        more = input(\"Do you want to add another product? (yes/no): \").lower()\n",
    "        if more != 'yes':\n",
    "            break\n",
    "\n",
    "    return customer_orders\n",
    "order= get_customer_order()\n"
   ]
  },
  {
   "cell_type": "code",
   "execution_count": 6,
   "id": "c3222229",
   "metadata": {},
   "outputs": [
    {
     "name": "stdout",
     "output_type": "stream",
     "text": [
      "{'book', 'mug', 't-shirt'}\n"
     ]
    }
   ],
   "source": [
    "print(order)"
   ]
  },
  {
   "cell_type": "code",
   "execution_count": 5,
   "id": "e8682571",
   "metadata": {},
   "outputs": [],
   "source": [
    "def update_inventory():\n",
    "    # Get the current inventory\n",
    "    inventory = get_inventory()\n",
    "    "
   ]
  },
  {
   "cell_type": "code",
   "execution_count": 8,
   "id": "808f5e29",
   "metadata": {},
   "outputs": [],
   "source": [
    "def cal_order_stat():\n",
    "    # get all orders\n",
    "    orders = Order.objects.all()"
   ]
  },
  {
   "cell_type": "code",
   "execution_count": 30,
   "id": "25ee2d11",
   "metadata": {},
   "outputs": [
    {
     "name": "stdout",
     "output_type": "stream",
     "text": [
      "Inventory {'name': 't-shirt', 'quantity': 0}\n",
      "Inventory {'name': 'mug', 'quantity': 0}\n",
      "Inventory {'name': 'hat', 'quantity': 0}\n",
      "Inventory {'name': 'book', 'quantity': 0}\n",
      "Inventory {'name': 'keychain', 'quantity': 0}\n",
      "Inventory initialized\n"
     ]
    }
   ],
   "source": [
    "products = [\"t-shirt\", \"mug\", \"hat\", \"book\", \"keychain\"]\n",
    "inventory = initialize_inventory(products)\n",
    "print(\"Inventory initialized\")\n",
    "#Check the inventory\n",
    "#print(\"Inventory:\\n \", inventory,'\\n')\n"
   ]
  },
  {
   "cell_type": "code",
   "execution_count": null,
   "id": "3ff99596",
   "metadata": {},
   "outputs": [],
   "source": []
  }
 ],
 "metadata": {
  "kernelspec": {
   "display_name": ".venv",
   "language": "python",
   "name": "python3"
  },
  "language_info": {
   "codemirror_mode": {
    "name": "ipython",
    "version": 3
   },
   "file_extension": ".py",
   "mimetype": "text/x-python",
   "name": "python",
   "nbconvert_exporter": "python",
   "pygments_lexer": "ipython3",
   "version": "3.12.3"
  }
 },
 "nbformat": 4,
 "nbformat_minor": 5
}
